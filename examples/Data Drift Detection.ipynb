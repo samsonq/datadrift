{
 "cells": [
  {
   "cell_type": "code",
   "execution_count": 4,
   "metadata": {},
   "outputs": [],
   "source": [
    "import os\n",
    "import numpy as np\n",
    "import pandas as pd\n",
    "import scipy\n",
    "from matplotlib import pyplot as plt\n",
    "import seaborn as sns\n",
    "%matplotlib inline\n",
    "\n",
    "import great_expectations as ge\n",
    "\n",
    "import warnings\n",
    "warnings.filterwarnings(\"ignore\")"
   ]
  },
  {
   "cell_type": "code",
   "execution_count": 5,
   "metadata": {},
   "outputs": [],
   "source": [
    "df1 = ge.read_csv(\"../data/example_data.csv\")\n",
    "df2 = ge.read_csv(\"../data/example_data_for_validation.csv\")"
   ]
  },
  {
   "cell_type": "code",
   "execution_count": 6,
   "metadata": {},
   "outputs": [
    {
     "data": {
      "text/html": [
       "<div>\n",
       "<style scoped>\n",
       "    .dataframe tbody tr th:only-of-type {\n",
       "        vertical-align: middle;\n",
       "    }\n",
       "\n",
       "    .dataframe tbody tr th {\n",
       "        vertical-align: top;\n",
       "    }\n",
       "\n",
       "    .dataframe thead th {\n",
       "        text-align: right;\n",
       "    }\n",
       "</style>\n",
       "<table border=\"1\" class=\"dataframe\">\n",
       "  <thead>\n",
       "    <tr style=\"text-align: right;\">\n",
       "      <th></th>\n",
       "      <th>Age</th>\n",
       "      <th>Income</th>\n",
       "      <th>Prior_Claims</th>\n",
       "    </tr>\n",
       "  </thead>\n",
       "  <tbody>\n",
       "    <tr>\n",
       "      <th>0</th>\n",
       "      <td>23</td>\n",
       "      <td>25000</td>\n",
       "      <td>Yes</td>\n",
       "    </tr>\n",
       "    <tr>\n",
       "      <th>1</th>\n",
       "      <td>34</td>\n",
       "      <td>34000</td>\n",
       "      <td>Yes</td>\n",
       "    </tr>\n",
       "    <tr>\n",
       "      <th>2</th>\n",
       "      <td>67</td>\n",
       "      <td>100000</td>\n",
       "      <td>No</td>\n",
       "    </tr>\n",
       "    <tr>\n",
       "      <th>3</th>\n",
       "      <td>34</td>\n",
       "      <td>102000</td>\n",
       "      <td>No</td>\n",
       "    </tr>\n",
       "    <tr>\n",
       "      <th>4</th>\n",
       "      <td>56</td>\n",
       "      <td>78000</td>\n",
       "      <td>Yes</td>\n",
       "    </tr>\n",
       "    <tr>\n",
       "      <th>5</th>\n",
       "      <td>34</td>\n",
       "      <td>34000</td>\n",
       "      <td>No</td>\n",
       "    </tr>\n",
       "    <tr>\n",
       "      <th>6</th>\n",
       "      <td>56</td>\n",
       "      <td>67888</td>\n",
       "      <td>Yes</td>\n",
       "    </tr>\n",
       "    <tr>\n",
       "      <th>7</th>\n",
       "      <td>67</td>\n",
       "      <td>45612</td>\n",
       "      <td>No</td>\n",
       "    </tr>\n",
       "    <tr>\n",
       "      <th>8</th>\n",
       "      <td>45</td>\n",
       "      <td>12345</td>\n",
       "      <td>Yes</td>\n",
       "    </tr>\n",
       "    <tr>\n",
       "      <th>9</th>\n",
       "      <td>34</td>\n",
       "      <td>45000</td>\n",
       "      <td>No</td>\n",
       "    </tr>\n",
       "  </tbody>\n",
       "</table>\n",
       "</div>"
      ],
      "text/plain": [
       "   Age  Income Prior_Claims\n",
       "0   23   25000          Yes\n",
       "1   34   34000          Yes\n",
       "2   67  100000           No\n",
       "3   34  102000           No\n",
       "4   56   78000          Yes\n",
       "5   34   34000           No\n",
       "6   56   67888          Yes\n",
       "7   67   45612           No\n",
       "8   45   12345          Yes\n",
       "9   34   45000           No"
      ]
     },
     "execution_count": 6,
     "metadata": {},
     "output_type": "execute_result"
    }
   ],
   "source": [
    "df1"
   ]
  },
  {
   "cell_type": "code",
   "execution_count": 14,
   "metadata": {},
   "outputs": [
    {
     "data": {
      "text/html": [
       "<div>\n",
       "<style scoped>\n",
       "    .dataframe tbody tr th:only-of-type {\n",
       "        vertical-align: middle;\n",
       "    }\n",
       "\n",
       "    .dataframe tbody tr th {\n",
       "        vertical-align: top;\n",
       "    }\n",
       "\n",
       "    .dataframe thead th {\n",
       "        text-align: right;\n",
       "    }\n",
       "</style>\n",
       "<table border=\"1\" class=\"dataframe\">\n",
       "  <thead>\n",
       "    <tr style=\"text-align: right;\">\n",
       "      <th></th>\n",
       "      <th>Age</th>\n",
       "      <th>Income</th>\n",
       "      <th>Prior_Claims</th>\n",
       "    </tr>\n",
       "  </thead>\n",
       "  <tbody>\n",
       "    <tr>\n",
       "      <th>0</th>\n",
       "      <td>90</td>\n",
       "      <td>25000</td>\n",
       "      <td>No</td>\n",
       "    </tr>\n",
       "    <tr>\n",
       "      <th>1</th>\n",
       "      <td>34</td>\n",
       "      <td>34000</td>\n",
       "      <td>Yes</td>\n",
       "    </tr>\n",
       "    <tr>\n",
       "      <th>2</th>\n",
       "      <td>67</td>\n",
       "      <td>100000</td>\n",
       "      <td>No</td>\n",
       "    </tr>\n",
       "    <tr>\n",
       "      <th>3</th>\n",
       "      <td>34</td>\n",
       "      <td>12000</td>\n",
       "      <td>No</td>\n",
       "    </tr>\n",
       "    <tr>\n",
       "      <th>4</th>\n",
       "      <td>56</td>\n",
       "      <td>78000</td>\n",
       "      <td>Yes</td>\n",
       "    </tr>\n",
       "    <tr>\n",
       "      <th>5</th>\n",
       "      <td>34</td>\n",
       "      <td>67000</td>\n",
       "      <td>No</td>\n",
       "    </tr>\n",
       "    <tr>\n",
       "      <th>6</th>\n",
       "      <td>56</td>\n",
       "      <td>67888</td>\n",
       "      <td>Yes</td>\n",
       "    </tr>\n",
       "    <tr>\n",
       "      <th>7</th>\n",
       "      <td>67</td>\n",
       "      <td>45612</td>\n",
       "      <td>No</td>\n",
       "    </tr>\n",
       "    <tr>\n",
       "      <th>8</th>\n",
       "      <td>78</td>\n",
       "      <td>1345</td>\n",
       "      <td>Yes</td>\n",
       "    </tr>\n",
       "    <tr>\n",
       "      <th>9</th>\n",
       "      <td>34</td>\n",
       "      <td>48000</td>\n",
       "      <td>No</td>\n",
       "    </tr>\n",
       "    <tr>\n",
       "      <th>10</th>\n",
       "      <td>76</td>\n",
       "      <td>8900</td>\n",
       "      <td>No</td>\n",
       "    </tr>\n",
       "    <tr>\n",
       "      <th>11</th>\n",
       "      <td>90</td>\n",
       "      <td>3450</td>\n",
       "      <td>No</td>\n",
       "    </tr>\n",
       "    <tr>\n",
       "      <th>12</th>\n",
       "      <td>18</td>\n",
       "      <td>3400</td>\n",
       "      <td>Yes</td>\n",
       "    </tr>\n",
       "  </tbody>\n",
       "</table>\n",
       "</div>"
      ],
      "text/plain": [
       "    Age  Income Prior_Claims\n",
       "0    90   25000           No\n",
       "1    34   34000          Yes\n",
       "2    67  100000           No\n",
       "3    34   12000           No\n",
       "4    56   78000          Yes\n",
       "5    34   67000           No\n",
       "6    56   67888          Yes\n",
       "7    67   45612           No\n",
       "8    78    1345          Yes\n",
       "9    34   48000           No\n",
       "10   76    8900           No\n",
       "11   90    3450           No\n",
       "12   18    3400          Yes"
      ]
     },
     "execution_count": 14,
     "metadata": {},
     "output_type": "execute_result"
    }
   ],
   "source": [
    "df2"
   ]
  },
  {
   "cell_type": "code",
   "execution_count": 4,
   "metadata": {},
   "outputs": [
    {
     "data": {
      "text/plain": [
       "{\n",
       "  \"meta\": {},\n",
       "  \"result\": {\n",
       "    \"element_count\": 10,\n",
       "    \"missing_count\": 0,\n",
       "    \"missing_percent\": 0.0,\n",
       "    \"unexpected_count\": 0,\n",
       "    \"unexpected_percent\": 0.0,\n",
       "    \"unexpected_percent_total\": 0.0,\n",
       "    \"unexpected_percent_nonmissing\": 0.0,\n",
       "    \"partial_unexpected_list\": []\n",
       "  },\n",
       "  \"success\": true,\n",
       "  \"exception_info\": {\n",
       "    \"raised_exception\": false,\n",
       "    \"exception_traceback\": null,\n",
       "    \"exception_message\": null\n",
       "  }\n",
       "}"
      ]
     },
     "execution_count": 4,
     "metadata": {},
     "output_type": "execute_result"
    }
   ],
   "source": [
    "df1.expect_column_values_to_be_in_set('Prior_Claims', ['Yes', 'No'])"
   ]
  },
  {
   "cell_type": "code",
   "execution_count": null,
   "metadata": {},
   "outputs": [],
   "source": [
    "class DataDriftDetection(object):\n",
    "    \"\"\"\n",
    "    \"\"\"\n",
    "    def __init__(self, past_data, new_data, label_col):\n",
    "        self.past_data = ge.read_csv(past_data)\n",
    "        self.new_data = ge.read_csv(new_data)\n",
    "        self.labels = np.unique(self.past_data[label_col])\n",
    "        \n",
    "    def _compute_statistics_numerical(self, feature):\n",
    "        min_past, min_new = np.min(self.past_data[feature]), np.min(self.new_data[feature])\n",
    "        max_past, max_new = np.max(self.past_data[feature]), np.max(self.new_data[feature])\n",
    "        median_past, median_new = np.median(self.past_data[feature]), np.median(self.new_data[feature])\n",
    "        mean_past, mean_new = np.mean(self.past_data[feature]), np.mean(self.new_data[feature])\n",
    "        std_past, std_new = np.std(self.past_data[feature]), np.std(self.new_data[feature])\n",
    "        variance_past, variance_new = std_past**2, std_new**2\n",
    "        kurtosis_past, kurtosis_new = scipy.stats.kurtosis(self.past_data[feature]), scipy.stats.kurtosis(self.new_data[feature])\n",
    "        skewnewss_past, skewnewss_new = scipy.stats.skew(self.past_data[feature]), scipy.stats.skew(self.new_data[feature])\n",
    "        self.numerical_statistics_past = {\"min\": min_past, \"max\": max_past, \"median\": median_past, \"mean\": mean_past, \n",
    "                                          \"std\": std_past, \"variance\": variance_past, \"kurtosis\": kurtosis_past, \"skew\": skewness_past}\n",
    "        self.numerical_statistics_new = {\"min\": min_new, \"max\": max_new, \"median\": median_new, \"mean\": mean_new, \n",
    "                                         \"std\": std_new, \"variance\": variance_new, \"kurtosis\": kurtosis_new, \"skew\":skewness_new}\n",
    "        return self.numerical_statistics_past, self.numerical_statistics_new\n",
    "    \n",
    "    def _compute_statistics_categorical(self, feature):\n",
    "        \n",
    "        return\n",
    "    \n",
    "    def bivariate_correlation(self, feature1, feature2):\n",
    "        corr_past, p_val_past = scipy.stats.pearsonr(self.past_data[feature1], self.past_data[feature2])\n",
    "        corr_new, p_val_new = scipy.stats.pearsonr(self.new_data[feature1], self.new_data[feature2])\n",
    "        print(\"Correlation of past data: {}, p-value: {}\".format(corr_past, p_val_past))\n",
    "        print(\"Correlation of new data: {}, p-value: {}\".format(corr_new, p_val_new))\n",
    "        return (corr_past, p_val_past), (corr_new, p_val_new)\n",
    "    \n",
    "    def ks_test(self, feature):\n",
    "        ks_stat, ks_p_val = scipy.stats.ks_2samp(self.past_data[feature], self.new_data[feature])\n",
    "        "
   ]
  },
  {
   "cell_type": "code",
   "execution_count": null,
   "metadata": {},
   "outputs": [],
   "source": [
    "data_drift = DataDriftDetection(df1, df2)"
   ]
  },
  {
   "cell_type": "markdown",
   "metadata": {},
   "source": [
    "## Univariate Numerical Features"
   ]
  },
  {
   "cell_type": "code",
   "execution_count": 5,
   "metadata": {},
   "outputs": [],
   "source": [
    "def _compute_statistics_numerical(past_data, new_data, feature):\n",
    "    \"\"\"\n",
    "\n",
    "    :param feature:\n",
    "    :return:\n",
    "    \"\"\"\n",
    "    min_past, min_new = np.min(past_data[feature]), np.min(new_data[feature])\n",
    "    max_past, max_new = np.max(past_data[feature]), np.max(new_data[feature])\n",
    "    median_past, median_new = np.median(past_data[feature]), np.median(new_data[feature])\n",
    "    mean_past, mean_new = np.mean(past_data[feature]), np.mean(new_data[feature])\n",
    "    std_past, std_new = np.std(past_data[feature]), np.std(new_data[feature])\n",
    "    variance_past, variance_new = std_past**2, std_new**2\n",
    "    kurtosis_past, kurtosis_new = scipy.stats.kurtosis(past_data[feature]), scipy.stats.kurtosis(new_data[feature])\n",
    "    skewness_past, skewness_new = scipy.stats.skew(past_data[feature]), scipy.stats.skew(new_data[feature])\n",
    "    numerical_statistics_past = {\"min\": min_past, \"max\": max_past, \"median\": median_past, \"mean\": mean_past, \n",
    "                                 \"std\": std_past, \"variance\": variance_past, \"kurtosis\": kurtosis_past, \"skew\": skewness_past}\n",
    "    numerical_statistics_new = {\"min\": min_new, \"max\": max_new, \"median\": median_new, \"mean\": mean_new, \n",
    "                                \"std\": std_new, \"variance\": variance_new, \"kurtosis\": kurtosis_new, \"skew\":skewness_new}\n",
    "    return numerical_statistics_past, numerical_statistics_new"
   ]
  },
  {
   "cell_type": "code",
   "execution_count": 6,
   "metadata": {},
   "outputs": [
    {
     "data": {
      "text/plain": [
       "({'min': 12345,\n",
       "  'max': 102000,\n",
       "  'median': 45306.0,\n",
       "  'mean': 54384.5,\n",
       "  'std': 29521.002202669202,\n",
       "  'variance': 871489571.0499998,\n",
       "  'kurtosis': -1.1511092829326848,\n",
       "  'skew': 0.39021699800733356},\n",
       " {'min': 1345,\n",
       "  'max': 100000,\n",
       "  'median': 34000.0,\n",
       "  'mean': 38045.769230769234,\n",
       "  'std': 31352.179877970077,\n",
       "  'variance': 982959183.1005918,\n",
       "  'kurtosis': -1.034453809072976,\n",
       "  'skew': 0.4410761864623665})"
      ]
     },
     "execution_count": 6,
     "metadata": {},
     "output_type": "execute_result"
    }
   ],
   "source": [
    "_compute_statistics_numerical(df1, df2, \"Income\")"
   ]
  },
  {
   "cell_type": "code",
   "execution_count": 10,
   "metadata": {},
   "outputs": [],
   "source": [
    "def plot_numerical(past_data, new_data, feature, bivariate=False, labels=None):\n",
    "    \"\"\"\n",
    "\n",
    "    :param feature:\n",
    "    :return:\n",
    "    \"\"\"\n",
    "    fig = plt.gcf()\n",
    "    fig.set_size_inches(10, 10)\n",
    "    plt.subplot(2, 2, 1)\n",
    "    if bivariate:\n",
    "        sns.histplot(data=past_data, x=feature, hue=labels, kde=True)\n",
    "    else:\n",
    "        sns.histplot(data=past_data, x=feature, kde=True)\n",
    "    plt.title(\"Baseline Data Distribution for {}\".format(feature))\n",
    "    plt.subplot(2, 2, 2)\n",
    "    if bivariate:\n",
    "        sns.histplot(data=new_data, x=feature, hue=labels, kde=True)\n",
    "    else:\n",
    "        sns.histplot(data=new_data, x=feature, kde=True)\n",
    "    plt.title(\"New Data Distribution for {}\".format(feature))\n",
    "    plt.show()"
   ]
  },
  {
   "cell_type": "code",
   "execution_count": 11,
   "metadata": {},
   "outputs": [
    {
     "data": {
      "image/png": "[encoded data removed]",
      "text/plain": [
       "<Figure size 720x720 with 2 Axes>"
      ]
     },
     "metadata": {
      "needs_background": "light"
     },
     "output_type": "display_data"
    }
   ],
   "source": [
    "plot_numerical(df1, df2, \"Income\")"
   ]
  },
  {
   "cell_type": "code",
   "execution_count": 23,
   "metadata": {},
   "outputs": [],
   "source": [
    "def ks_test(past_data, new_data, feature):\n",
    "    \"\"\"\n",
    "\n",
    "    :param feature:\n",
    "    :return:\n",
    "    \"\"\"\n",
    "    ks_stat, ks_p_val = scipy.stats.ks_2samp(past_data[feature], new_data[feature])\n",
    "    print(\"KS Statistic: {}, p-value: {}\".format(ks_stat, ks_p_val))\n",
    "    return ks_stat, ks_p_val"
   ]
  },
  {
   "cell_type": "code",
   "execution_count": 15,
   "metadata": {},
   "outputs": [
    {
     "name": "stdout",
     "output_type": "stream",
     "text": [
      "KS Statistic: 0.38461538461538464, p-value: 0.29269552630704876\n"
     ]
    },
    {
     "data": {
      "text/plain": [
       "(0.38461538461538464, 0.29269552630704876)"
      ]
     },
     "execution_count": 15,
     "metadata": {},
     "output_type": "execute_result"
    }
   ],
   "source": [
    "ks_test(df1, df2, \"Income\")"
   ]
  },
  {
   "cell_type": "markdown",
   "metadata": {},
   "source": [
    "## Bivariate Numerical Features"
   ]
  },
  {
   "cell_type": "code",
   "execution_count": 19,
   "metadata": {},
   "outputs": [
    {
     "data": {
      "text/plain": [
       "({'min': 12345,\n",
       "  'max': 78000,\n",
       "  'median': 34000.0,\n",
       "  'mean': 43446.6,\n",
       "  'std': 25251.314069568736,\n",
       "  'variance': 637628862.24,\n",
       "  'kurtosis': -1.602067232382904,\n",
       "  'skew': 0.23167087298266742},\n",
       " {'min': 1345,\n",
       "  'max': 78000,\n",
       "  'median': 34000.0,\n",
       "  'mean': 36926.6,\n",
       "  'std': 31762.495592128776,\n",
       "  'variance': 1008856126.24,\n",
       "  'kurtosis': -1.6969055299286542,\n",
       "  'skew': 0.10119597589370695})"
      ]
     },
     "execution_count": 19,
     "metadata": {},
     "output_type": "execute_result"
    }
   ],
   "source": [
    "_compute_statistics_numerical(df1[df1[\"Prior_Claims\"]==\"Yes\"], df2[df2[\"Prior_Claims\"]==\"Yes\"], \"Income\")"
   ]
  },
  {
   "cell_type": "code",
   "execution_count": 20,
   "metadata": {},
   "outputs": [
    {
     "data": {
      "text/plain": [
       "({'min': 34000,\n",
       "  'max': 102000,\n",
       "  'median': 45612.0,\n",
       "  'mean': 65322.4,\n",
       "  'std': 29429.151653420122,\n",
       "  'variance': 866074967.0400003,\n",
       "  'kurtosis': -1.7895186964243186,\n",
       "  'skew': 0.34730781762767},\n",
       " {'min': 3450,\n",
       "  'max': 100000,\n",
       "  'median': 35306.0,\n",
       "  'mean': 38745.25,\n",
       "  'std': 31072.51973911192,\n",
       "  'variance': 965501482.9375,\n",
       "  'kurtosis': -0.6375387226302913,\n",
       "  'skew': 0.6717715210064092})"
      ]
     },
     "execution_count": 20,
     "metadata": {},
     "output_type": "execute_result"
    }
   ],
   "source": [
    "_compute_statistics_numerical(df1[df1[\"Prior_Claims\"]==\"No\"], df2[df2[\"Prior_Claims\"]==\"No\"], \"Income\")"
   ]
  },
  {
   "cell_type": "code",
   "execution_count": 16,
   "metadata": {},
   "outputs": [
    {
     "data": {
      "image/png": "[encoded data removed]",
      "text/plain": [
       "<Figure size 720x720 with 2 Axes>"
      ]
     },
     "metadata": {
      "needs_background": "light"
     },
     "output_type": "display_data"
    }
   ],
   "source": [
    "plot_numerical(df1, df2, \"Income\", True, \"Prior_Claims\")"
   ]
  },
  {
   "cell_type": "code",
   "execution_count": 22,
   "metadata": {},
   "outputs": [
    {
     "name": "stdout",
     "output_type": "stream",
     "text": [
      "KS Statistic: 0.4, p-value: 0.873015873015873\n"
     ]
    },
    {
     "data": {
      "text/plain": [
       "(0.4, 0.873015873015873)"
      ]
     },
     "execution_count": 22,
     "metadata": {},
     "output_type": "execute_result"
    }
   ],
   "source": [
    "ks_test(df1[df1[\"Prior_Claims\"]==\"Yes\"], df2[df2[\"Prior_Claims\"]==\"Yes\"], \"Income\")"
   ]
  },
  {
   "cell_type": "code",
   "execution_count": 21,
   "metadata": {},
   "outputs": [
    {
     "name": "stdout",
     "output_type": "stream",
     "text": [
      "KS Statistic: 0.5, p-value: 0.31623931623931634\n"
     ]
    },
    {
     "data": {
      "text/plain": [
       "(0.5, 0.31623931623931634)"
      ]
     },
     "execution_count": 21,
     "metadata": {},
     "output_type": "execute_result"
    }
   ],
   "source": [
    "ks_test(df1[df1[\"Prior_Claims\"]==\"No\"], df2[df2[\"Prior_Claims\"]==\"No\"], \"Income\")"
   ]
  },
  {
   "cell_type": "code",
   "execution_count": 24,
   "metadata": {},
   "outputs": [],
   "source": [
    "def bivariate_correlation(past_data, new_data, feature1, feature2):\n",
    "    \"\"\"\n",
    "\n",
    "    :param feature1:\n",
    "    :param feature2:\n",
    "    :return:\n",
    "    \"\"\"\n",
    "    corr_past, p_val_past = scipy.stats.pearsonr(past_data[feature1], past_data[feature2])\n",
    "    corr_new, p_val_new = scipy.stats.pearsonr(new_data[feature1], new_data[feature2])\n",
    "    print(\"Correlation of past data: {}, p-value: {}\".format(corr_past, p_val_past))\n",
    "    print(\"Correlation of new data: {}, p-value: {}\".format(corr_new, p_val_new))\n",
    "    return (corr_past, p_val_past), (corr_new, p_val_new)"
   ]
  },
  {
   "cell_type": "code",
   "execution_count": 25,
   "metadata": {},
   "outputs": [
    {
     "name": "stdout",
     "output_type": "stream",
     "text": [
      "Correlation of past data: 0.4345540496912696, p-value: 0.20949519275100018\n",
      "Correlation of new data: -0.12032144905901232, p-value: 0.6953979222993741\n"
     ]
    },
    {
     "data": {
      "text/plain": [
       "((0.4345540496912696, 0.20949519275100018),\n",
       " (-0.12032144905901232, 0.6953979222993741))"
      ]
     },
     "execution_count": 25,
     "metadata": {},
     "output_type": "execute_result"
    }
   ],
   "source": [
    "bivariate_correlation(df1, df2, \"Age\", \"Income\")"
   ]
  },
  {
   "cell_type": "markdown",
   "metadata": {},
   "source": [
    "## Univariate Categorial Features"
   ]
  },
  {
   "cell_type": "code",
   "execution_count": 9,
   "metadata": {},
   "outputs": [
    {
     "data": {
      "text/plain": [
       "Yes    5\n",
       "No     5\n",
       "Name: Prior_Claims, dtype: int64"
      ]
     },
     "execution_count": 9,
     "metadata": {},
     "output_type": "execute_result"
    }
   ],
   "source": [
    "df1[\"Prior_Claims\"].value_counts()"
   ]
  },
  {
   "cell_type": "code",
   "execution_count": 13,
   "metadata": {},
   "outputs": [
    {
     "data": {
      "text/plain": [
       "No     8\n",
       "Yes    5\n",
       "Name: Prior_Claims, dtype: int64"
      ]
     },
     "execution_count": 13,
     "metadata": {},
     "output_type": "execute_result"
    }
   ],
   "source": [
    "df2[\"Prior_Claims\"].value_counts()"
   ]
  },
  {
   "cell_type": "code",
   "execution_count": null,
   "metadata": {},
   "outputs": [],
   "source": []
  },
  {
   "cell_type": "code",
   "execution_count": null,
   "metadata": {},
   "outputs": [],
   "source": []
  },
  {
   "cell_type": "markdown",
   "metadata": {},
   "source": [
    "## Bivariate Categorial Features"
   ]
  },
  {
   "cell_type": "code",
   "execution_count": null,
   "metadata": {},
   "outputs": [],
   "source": []
  }
 ],
 "metadata": {
  "kernelspec": {
   "display_name": "Python 3",
   "language": "python",
   "name": "python3"
  },
  "language_info": {
   "codemirror_mode": {
    "name": "ipython",
    "version": 3
   },
   "file_extension": ".py",
   "mimetype": "text/x-python",
   "name": "python",
   "nbconvert_exporter": "python",
   "pygments_lexer": "ipython3",
   "version": "3.6.8"
  }
 },
 "nbformat": 4,
 "nbformat_minor": 2
}
