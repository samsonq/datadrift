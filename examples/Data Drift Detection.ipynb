{
 "cells": [
  {
   "cell_type": "code",
   "execution_count": 1,
   "metadata": {},
   "outputs": [],
   "source": [
    "import os\n",
    "import numpy as np\n",
    "import pandas as pd\n",
    "import scipy\n",
    "from matplotlib import pyplot as plt\n",
    "import seaborn as sns\n",
    "%matplotlib inline\n",
    "\n",
    "import great_expectations as ge\n",
    "\n",
    "import warnings\n",
    "warnings.filterwarnings(\"ignore\")"
   ]
  },
  {
   "cell_type": "code",
   "execution_count": 2,
   "metadata": {},
   "outputs": [],
   "source": [
    "df1 = ge.read_csv(\"../data/example_data.csv\")\n",
    "df2 = ge.read_csv(\"../data/example_data_for_validation.csv\")"
   ]
  },
  {
   "cell_type": "code",
   "execution_count": 3,
   "metadata": {},
   "outputs": [
    {
     "data": {
      "text/html": [
       "<div>\n",
       "<style scoped>\n",
       "    .dataframe tbody tr th:only-of-type {\n",
       "        vertical-align: middle;\n",
       "    }\n",
       "\n",
       "    .dataframe tbody tr th {\n",
       "        vertical-align: top;\n",
       "    }\n",
       "\n",
       "    .dataframe thead th {\n",
       "        text-align: right;\n",
       "    }\n",
       "</style>\n",
       "<table border=\"1\" class=\"dataframe\">\n",
       "  <thead>\n",
       "    <tr style=\"text-align: right;\">\n",
       "      <th></th>\n",
       "      <th>Age</th>\n",
       "      <th>Income</th>\n",
       "      <th>Prior_Claims</th>\n",
       "    </tr>\n",
       "  </thead>\n",
       "  <tbody>\n",
       "    <tr>\n",
       "      <th>0</th>\n",
       "      <td>23</td>\n",
       "      <td>25000</td>\n",
       "      <td>Yes</td>\n",
       "    </tr>\n",
       "    <tr>\n",
       "      <th>1</th>\n",
       "      <td>34</td>\n",
       "      <td>34000</td>\n",
       "      <td>Yes</td>\n",
       "    </tr>\n",
       "    <tr>\n",
       "      <th>2</th>\n",
       "      <td>67</td>\n",
       "      <td>100000</td>\n",
       "      <td>No</td>\n",
       "    </tr>\n",
       "    <tr>\n",
       "      <th>3</th>\n",
       "      <td>34</td>\n",
       "      <td>102000</td>\n",
       "      <td>No</td>\n",
       "    </tr>\n",
       "    <tr>\n",
       "      <th>4</th>\n",
       "      <td>56</td>\n",
       "      <td>78000</td>\n",
       "      <td>Yes</td>\n",
       "    </tr>\n",
       "    <tr>\n",
       "      <th>5</th>\n",
       "      <td>34</td>\n",
       "      <td>34000</td>\n",
       "      <td>No</td>\n",
       "    </tr>\n",
       "    <tr>\n",
       "      <th>6</th>\n",
       "      <td>56</td>\n",
       "      <td>67888</td>\n",
       "      <td>Yes</td>\n",
       "    </tr>\n",
       "    <tr>\n",
       "      <th>7</th>\n",
       "      <td>67</td>\n",
       "      <td>45612</td>\n",
       "      <td>No</td>\n",
       "    </tr>\n",
       "    <tr>\n",
       "      <th>8</th>\n",
       "      <td>45</td>\n",
       "      <td>12345</td>\n",
       "      <td>Yes</td>\n",
       "    </tr>\n",
       "    <tr>\n",
       "      <th>9</th>\n",
       "      <td>34</td>\n",
       "      <td>45000</td>\n",
       "      <td>No</td>\n",
       "    </tr>\n",
       "  </tbody>\n",
       "</table>\n",
       "</div>"
      ],
      "text/plain": [
       "   Age  Income Prior_Claims\n",
       "0   23   25000          Yes\n",
       "1   34   34000          Yes\n",
       "2   67  100000           No\n",
       "3   34  102000           No\n",
       "4   56   78000          Yes\n",
       "5   34   34000           No\n",
       "6   56   67888          Yes\n",
       "7   67   45612           No\n",
       "8   45   12345          Yes\n",
       "9   34   45000           No"
      ]
     },
     "execution_count": 3,
     "metadata": {},
     "output_type": "execute_result"
    }
   ],
   "source": [
    "df1"
   ]
  },
  {
   "cell_type": "code",
   "execution_count": 16,
   "metadata": {},
   "outputs": [
    {
     "data": {
      "text/plain": [
       "{\n",
       "  \"exception_info\": {\n",
       "    \"raised_exception\": false,\n",
       "    \"exception_traceback\": null,\n",
       "    \"exception_message\": null\n",
       "  },\n",
       "  \"success\": true,\n",
       "  \"meta\": {},\n",
       "  \"result\": {\n",
       "    \"element_count\": 10,\n",
       "    \"missing_count\": 0,\n",
       "    \"missing_percent\": 0.0,\n",
       "    \"unexpected_count\": 0,\n",
       "    \"unexpected_percent\": 0.0,\n",
       "    \"unexpected_percent_total\": 0.0,\n",
       "    \"unexpected_percent_nonmissing\": 0.0,\n",
       "    \"partial_unexpected_list\": []\n",
       "  }\n",
       "}"
      ]
     },
     "execution_count": 16,
     "metadata": {},
     "output_type": "execute_result"
    }
   ],
   "source": [
    "df1.expect_column_values_to_be_in_set('Prior_Claims', ['Yes', 'No'])"
   ]
  },
  {
   "cell_type": "code",
   "execution_count": null,
   "metadata": {},
   "outputs": [],
   "source": [
    "class DataDriftDetection(object):\n",
    "    \"\"\"\n",
    "    \"\"\"\n",
    "    def __init__(self, past_data, new_data, label_col):\n",
    "        self.past_data = ge.read_csv(past_data)\n",
    "        self.new_data = ge.read_csv(new_data)\n",
    "        self.labels = np.unique(self.past_data[label_col])\n",
    "        \n",
    "    def _compute_statistics_numerical(self, feature):\n",
    "        min_past, min_new = np.min(self.past_data[feature]), np.min(self.new_data[feature])\n",
    "        max_past, max_new = np.max(self.past_data[feature]), np.max(self.new_data[feature])\n",
    "        median_past, median_new = np.median(self.past_data[feature]), np.median(self.new_data[feature])\n",
    "        mean_past, mean_new = np.mean(self.past_data[feature]), np.mean(self.new_data[feature])\n",
    "        std_past, std_new = np.std(self.past_data[feature]), np.std(self.new_data[feature])\n",
    "        variance_past, variance_new = std_past**2, std_new**2\n",
    "        kurtosis_past, kurtosis_new = scipy.stats.kurtosis(self.past_data[feature]), scipy.stats.kurtosis(self.new_data[feature])\n",
    "        skewnewss_past, skewnewss_new = scipy.stats.skew(self.past_data[feature]), scipy.stats.skew(self.new_data[feature])\n",
    "        self.numerical_statistics_past = {\"min\": min_past, \"max\": max_past, \"median\": median_past, \"mean\": mean_past, \n",
    "                                          \"std\": std_past, \"variance\": variance_past, \"kurtosis\": kurtosis_past, \"skew\": skewness_past}\n",
    "        self.numerical_statistics_new = {\"min\": min_new, \"max\": max_new, \"median\": median_new, \"mean\": mean_new, \n",
    "                                         \"std\": std_new, \"variance\": variance_new, \"kurtosis\": kurtosis_new, \"skew\":skewness_new}\n",
    "        return self.numerical_statistics_past, self.numerical_statistics_new\n",
    "    \n",
    "    def _compute_statistics_categorical(self, feature):\n",
    "        \n",
    "        return\n",
    "    \n",
    "    def bivariate_correlation(self, feature1, feature2):\n",
    "        corr_past, p_val_past = scipy.stats.pearsonr(self.past_data[feature1], self.past_data[feature2])\n",
    "        corr_new, p_val_new = scipy.stats.pearsonr(self.new_data[feature1], self.new_data[feature2])\n",
    "        print(\"Correlation of past data: {}, p-value: {}\".format(corr_past, p_val_past))\n",
    "        print(\"Correlation of new data: {}, p-value: {}\".format(corr_new, p_val_new))\n",
    "        return (corr_past, p_val_past), (corr_new, p_val_new)\n",
    "    \n",
    "    def ks_test(self, feature):\n",
    "        ks_stat, ks_p_val = scipy.stats.ks_2samp(self.past_data[feature], self.new_data[feature])\n",
    "        "
   ]
  },
  {
   "cell_type": "code",
   "execution_count": null,
   "metadata": {},
   "outputs": [],
   "source": [
    "data_drift = DataDriftDetection(df1, df2)"
   ]
  },
  {
   "cell_type": "code",
   "execution_count": null,
   "metadata": {},
   "outputs": [],
   "source": []
  }
 ],
 "metadata": {
  "kernelspec": {
   "display_name": "Python 3 (ipykernel)",
   "language": "python",
   "name": "python3"
  },
  "language_info": {
   "codemirror_mode": {
    "name": "ipython",
    "version": 3
   },
   "file_extension": ".py",
   "mimetype": "text/x-python",
   "name": "python",
   "nbconvert_exporter": "python",
   "pygments_lexer": "ipython3",
   "version": "3.9.5"
  }
 },
 "nbformat": 4,
 "nbformat_minor": 2
}
