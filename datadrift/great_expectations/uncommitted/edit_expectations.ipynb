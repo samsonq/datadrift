{
 "cells": [
  {
   "cell_type": "markdown",
   "metadata": {},
   "source": [
    "# Edit Your Expectation Suite\n",
    "Use this notebook to recreate and modify your expectation suite:\n",
    "\n",
    "**Expectation Suite Name**: `expectations`\n"
   ]
  },
  {
   "cell_type": "code",
   "execution_count": 16,
   "metadata": {},
   "outputs": [
    {
     "name": "stdout",
     "output_type": "stream",
     "text": [
      "Loaded ExpectationSuite \"expectations\" containing 24 expectations.\n"
     ]
    }
   ],
   "source": [
    "import datetime\n",
    "\n",
    "import pandas as pd\n",
    "\n",
    "import great_expectations as ge\n",
    "import great_expectations.jupyter_ux\n",
    "from great_expectations.core.batch import BatchRequest\n",
    "from great_expectations.core.expectation_configuration import ExpectationConfiguration\n",
    "from great_expectations.profile.user_configurable_profiler import UserConfigurableProfiler\n",
    "from great_expectations.checkpoint import SimpleCheckpoint\n",
    "from great_expectations.data_context.types.resource_identifiers import (\n",
    "    ExpectationSuiteIdentifier,\n",
    ")\n",
    "from great_expectations.exceptions import DataContextError\n",
    "\n",
    "context = ge.data_context.DataContext()\n",
    "\n",
    "batch_request = {'datasource_name': 'my_datasource', 'data_connector_name': 'default_inferred_data_connector_name', 'data_asset_name': 'example_data.csv', 'limit': 1000}\n",
    "\n",
    "# Feel free to change the name of your suite here. Renaming this will not remove the other one.\n",
    "expectation_suite_name = \"expectations\"\n",
    "try:\n",
    "    suite = context.get_expectation_suite(expectation_suite_name=expectation_suite_name)\n",
    "    print(\n",
    "        f'Loaded ExpectationSuite \"{suite.expectation_suite_name}\" containing {len(suite.expectations)} expectations.'\n",
    "    )\n",
    "except DataContextError:\n",
    "    suite = context.create_expectation_suite(\n",
    "        expectation_suite_name=expectation_suite_name\n",
    "    )\n",
    "    print(f'Created ExpectationSuite \"{suite.expectation_suite_name}\".')"
   ]
  },
  {
   "cell_type": "code",
   "execution_count": 8,
   "metadata": {},
   "outputs": [
    {
     "name": "stdout",
     "output_type": "stream",
     "text": [
      "Columns: \"Age\", \"Income\", \"Prior_Claims\".\n"
     ]
    }
   ],
   "source": [
    "validator = context.get_validator(\n",
    "    batch_request=BatchRequest(**batch_request),\n",
    "    expectation_suite_name=expectation_suite_name\n",
    ")\n",
    "column_names = [f'\"{column_name}\"' for column_name in validator.columns()]\n",
    "print(f\"Columns: {', '.join(column_names)}.\")"
   ]
  },
  {
   "cell_type": "markdown",
   "metadata": {},
   "source": [
    "## Create & Edit Expectations\n",
    "\n",
    "\n",
    "You are adding Expectation configurations to the suite. Since you selected manual mode, there is no sample batch of data and no validation happens during this process. See our documentation for more info and examples: **[How to create a new Expectation Suite without a sample batch](https://docs.greatexpectations.io/en/latest/guides/how_to_guides/creating_and_editing_expectations/how_to_create_a_new_expectation_suite_without_a_sample_batch.html)**.\n",
    "\n",
    "Note that if you do use interactive mode you may specify a sample batch of data to use when creating your Expectation Suite. You can then use a `validator` to get immediate feedback on your Expectations against your specified sample batch.\n",
    "\n",
    "\n",
    "You can see all the available expectations in the **[expectation glossary](https://docs.greatexpectations.io/en/latest/reference/glossary_of_expectations.html?utm_source=notebook&utm_medium=create_expectations)**."
   ]
  },
  {
   "cell_type": "markdown",
   "metadata": {},
   "source": [
    "### Table Expectation(s)"
   ]
  },
  {
   "cell_type": "code",
   "execution_count": 9,
   "metadata": {},
   "outputs": [
    {
     "data": {
      "text/html": [
       "<div>\n",
       "<style scoped>\n",
       "    .dataframe tbody tr th:only-of-type {\n",
       "        vertical-align: middle;\n",
       "    }\n",
       "\n",
       "    .dataframe tbody tr th {\n",
       "        vertical-align: top;\n",
       "    }\n",
       "\n",
       "    .dataframe thead th {\n",
       "        text-align: right;\n",
       "    }\n",
       "</style>\n",
       "<table border=\"1\" class=\"dataframe\">\n",
       "  <thead>\n",
       "    <tr style=\"text-align: right;\">\n",
       "      <th></th>\n",
       "      <th>Age</th>\n",
       "      <th>Income</th>\n",
       "      <th>Prior_Claims</th>\n",
       "    </tr>\n",
       "  </thead>\n",
       "  <tbody>\n",
       "    <tr>\n",
       "      <th>0</th>\n",
       "      <td>23</td>\n",
       "      <td>25000</td>\n",
       "      <td>Yes</td>\n",
       "    </tr>\n",
       "    <tr>\n",
       "      <th>1</th>\n",
       "      <td>34</td>\n",
       "      <td>34000</td>\n",
       "      <td>Yes</td>\n",
       "    </tr>\n",
       "    <tr>\n",
       "      <th>2</th>\n",
       "      <td>67</td>\n",
       "      <td>100000</td>\n",
       "      <td>No</td>\n",
       "    </tr>\n",
       "    <tr>\n",
       "      <th>3</th>\n",
       "      <td>34</td>\n",
       "      <td>102000</td>\n",
       "      <td>No</td>\n",
       "    </tr>\n",
       "    <tr>\n",
       "      <th>4</th>\n",
       "      <td>56</td>\n",
       "      <td>78000</td>\n",
       "      <td>Yes</td>\n",
       "    </tr>\n",
       "    <tr>\n",
       "      <th>5</th>\n",
       "      <td>34</td>\n",
       "      <td>34000</td>\n",
       "      <td>No</td>\n",
       "    </tr>\n",
       "    <tr>\n",
       "      <th>6</th>\n",
       "      <td>56</td>\n",
       "      <td>67888</td>\n",
       "      <td>Yes</td>\n",
       "    </tr>\n",
       "    <tr>\n",
       "      <th>7</th>\n",
       "      <td>67</td>\n",
       "      <td>45612</td>\n",
       "      <td>No</td>\n",
       "    </tr>\n",
       "    <tr>\n",
       "      <th>8</th>\n",
       "      <td>45</td>\n",
       "      <td>12345</td>\n",
       "      <td>Yes</td>\n",
       "    </tr>\n",
       "    <tr>\n",
       "      <th>9</th>\n",
       "      <td>34</td>\n",
       "      <td>45000</td>\n",
       "      <td>No</td>\n",
       "    </tr>\n",
       "  </tbody>\n",
       "</table>\n",
       "</div>"
      ],
      "text/plain": [
       "   Age  Income Prior_Claims\n",
       "0  23   25000   Yes        \n",
       "1  34   34000   Yes        \n",
       "2  67   100000  No         \n",
       "3  34   102000  No         \n",
       "4  56   78000   Yes        \n",
       "5  34   34000   No         \n",
       "6  56   67888   Yes        \n",
       "7  67   45612   No         \n",
       "8  45   12345   Yes        \n",
       "9  34   45000   No         "
      ]
     },
     "execution_count": 9,
     "metadata": {},
     "output_type": "execute_result"
    }
   ],
   "source": [
    "validator.head(n_rows=10, fetch_all=False)"
   ]
  },
  {
   "cell_type": "markdown",
   "metadata": {},
   "source": [
    "No table level expectations are in this suite. Feel free to add some here.\n"
   ]
  },
  {
   "cell_type": "code",
   "execution_count": 13,
   "metadata": {},
   "outputs": [],
   "source": [
    "ignored_columns = []"
   ]
  },
  {
   "cell_type": "code",
   "execution_count": 14,
   "metadata": {},
   "outputs": [
    {
     "data": {
      "application/vnd.jupyter.widget-view+json": {
       "model_id": "9831aa88332b45f3aa79111e516da654",
       "version_major": 2,
       "version_minor": 0
      },
      "text/plain": [
       "Calculating Metrics:   0%|          | 0/3 [00:00<?, ?it/s]"
      ]
     },
     "metadata": {},
     "output_type": "display_data"
    },
    {
     "data": {
      "application/vnd.jupyter.widget-view+json": {
       "model_id": "d2132501c75d4427aa75631054c35e73",
       "version_major": 2,
       "version_minor": 0
      },
      "text/plain": [
       "Calculating Metrics:   0%|          | 0/7 [00:00<?, ?it/s]"
      ]
     },
     "metadata": {},
     "output_type": "display_data"
    },
    {
     "data": {
      "application/vnd.jupyter.widget-view+json": {
       "model_id": "3ec95b0171f745a48a22ebca7108f1a7",
       "version_major": 2,
       "version_minor": 0
      },
      "text/plain": [
       "Calculating Metrics:   0%|          | 0/3 [00:00<?, ?it/s]"
      ]
     },
     "metadata": {},
     "output_type": "display_data"
    },
    {
     "data": {
      "application/vnd.jupyter.widget-view+json": {
       "model_id": "982454c395c648b1b86798cc1dc3caf2",
       "version_major": 2,
       "version_minor": 0
      },
      "text/plain": [
       "Calculating Metrics:   0%|          | 0/7 [00:00<?, ?it/s]"
      ]
     },
     "metadata": {},
     "output_type": "display_data"
    },
    {
     "data": {
      "application/vnd.jupyter.widget-view+json": {
       "model_id": "ff15e16c902b409b98fd38ee2684b73c",
       "version_major": 2,
       "version_minor": 0
      },
      "text/plain": [
       "Calculating Metrics:   0%|          | 0/3 [00:00<?, ?it/s]"
      ]
     },
     "metadata": {},
     "output_type": "display_data"
    },
    {
     "data": {
      "application/vnd.jupyter.widget-view+json": {
       "model_id": "8a2fd43f58ca4b07a77a8c444f401854",
       "version_major": 2,
       "version_minor": 0
      },
      "text/plain": [
       "Calculating Metrics:   0%|          | 0/7 [00:00<?, ?it/s]"
      ]
     },
     "metadata": {},
     "output_type": "display_data"
    },
    {
     "data": {
      "application/vnd.jupyter.widget-view+json": {
       "model_id": "21170f767d1b4fd4b49b13d9e35afc27",
       "version_major": 2,
       "version_minor": 0
      },
      "text/plain": [
       "Calculating Metrics:   0%|          | 0/8 [00:00<?, ?it/s]"
      ]
     },
     "metadata": {},
     "output_type": "display_data"
    },
    {
     "data": {
      "application/vnd.jupyter.widget-view+json": {
       "model_id": "177d21f356c24d70ac6c7bd2e651f289",
       "version_major": 2,
       "version_minor": 0
      },
      "text/plain": [
       "Calculating Metrics:   0%|          | 0/8 [00:00<?, ?it/s]"
      ]
     },
     "metadata": {},
     "output_type": "display_data"
    },
    {
     "data": {
      "application/vnd.jupyter.widget-view+json": {
       "model_id": "7a63381241ef4346ace302b6cb1e4d84",
       "version_major": 2,
       "version_minor": 0
      },
      "text/plain": [
       "Calculating Metrics:   0%|          | 0/8 [00:00<?, ?it/s]"
      ]
     },
     "metadata": {},
     "output_type": "display_data"
    },
    {
     "data": {
      "application/vnd.jupyter.widget-view+json": {
       "model_id": "d1fbc3f1073c4cc3b6f77bdc28859b5a",
       "version_major": 2,
       "version_minor": 0
      },
      "text/plain": [
       "Calculating Metrics:   0%|          | 0/8 [00:00<?, ?it/s]"
      ]
     },
     "metadata": {},
     "output_type": "display_data"
    },
    {
     "name": "stdout",
     "output_type": "stream",
     "text": [
      "2021-10-25T15:27:34-0400 - INFO - \t0 expectation(s) included in expectation_suite.\n"
     ]
    },
    {
     "data": {
      "application/vnd.jupyter.widget-view+json": {
       "model_id": "5dc871d3f0be4c72a5876643292938d1",
       "version_major": 2,
       "version_minor": 0
      },
      "text/plain": [
       "Profiling:   0%|          | 0/3 [00:00<?, ?it/s, Column=Age]"
      ]
     },
     "metadata": {},
     "output_type": "display_data"
    },
    {
     "data": {
      "application/vnd.jupyter.widget-view+json": {
       "model_id": "df22ae57d87441ef8fc52dd17a260b67",
       "version_major": 2,
       "version_minor": 0
      },
      "text/plain": [
       "Calculating Metrics:   0%|          | 0/3 [00:00<?, ?it/s]"
      ]
     },
     "metadata": {},
     "output_type": "display_data"
    },
    {
     "data": {
      "application/vnd.jupyter.widget-view+json": {
       "model_id": "978c13da3489486785d8f2df3fa3e254",
       "version_major": 2,
       "version_minor": 0
      },
      "text/plain": [
       "Calculating Metrics:   0%|          | 0/3 [00:00<?, ?it/s]"
      ]
     },
     "metadata": {},
     "output_type": "display_data"
    },
    {
     "data": {
      "application/vnd.jupyter.widget-view+json": {
       "model_id": "d20e43a687d344bdaacb791aa4048321",
       "version_major": 2,
       "version_minor": 0
      },
      "text/plain": [
       "Calculating Metrics:   0%|          | 0/3 [00:00<?, ?it/s]"
      ]
     },
     "metadata": {},
     "output_type": "display_data"
    },
    {
     "data": {
      "application/vnd.jupyter.widget-view+json": {
       "model_id": "0d465b3755544fd5880149a2241c601f",
       "version_major": 2,
       "version_minor": 0
      },
      "text/plain": [
       "Calculating Metrics:   0%|          | 0/3 [00:00<?, ?it/s]"
      ]
     },
     "metadata": {},
     "output_type": "display_data"
    },
    {
     "data": {
      "application/vnd.jupyter.widget-view+json": {
       "model_id": "5920fe1a937c4b899909f201da402df2",
       "version_major": 2,
       "version_minor": 0
      },
      "text/plain": [
       "Calculating Metrics:   0%|          | 0/3 [00:00<?, ?it/s]"
      ]
     },
     "metadata": {},
     "output_type": "display_data"
    },
    {
     "data": {
      "application/vnd.jupyter.widget-view+json": {
       "model_id": "8bb1f679e25747d7ae777d67d9c10a7c",
       "version_major": 2,
       "version_minor": 0
      },
      "text/plain": [
       "Calculating Metrics:   0%|          | 0/3 [00:00<?, ?it/s]"
      ]
     },
     "metadata": {},
     "output_type": "display_data"
    },
    {
     "data": {
      "application/vnd.jupyter.widget-view+json": {
       "model_id": "66f9c4d786b24b9791609fc61ccf724c",
       "version_major": 2,
       "version_minor": 0
      },
      "text/plain": [
       "Calculating Metrics:   0%|          | 0/4 [00:00<?, ?it/s]"
      ]
     },
     "metadata": {},
     "output_type": "display_data"
    },
    {
     "data": {
      "application/vnd.jupyter.widget-view+json": {
       "model_id": "804b95092065472ebca1e1ce826056ac",
       "version_major": 2,
       "version_minor": 0
      },
      "text/plain": [
       "Calculating Metrics:   0%|          | 0/4 [00:00<?, ?it/s]"
      ]
     },
     "metadata": {},
     "output_type": "display_data"
    },
    {
     "data": {
      "application/vnd.jupyter.widget-view+json": {
       "model_id": "0c3b8a28eed543389d70692740b4a92a",
       "version_major": 2,
       "version_minor": 0
      },
      "text/plain": [
       "Calculating Metrics:   0%|          | 0/3 [00:00<?, ?it/s]"
      ]
     },
     "metadata": {},
     "output_type": "display_data"
    },
    {
     "data": {
      "application/vnd.jupyter.widget-view+json": {
       "model_id": "394e89c6070e43b8a5a897d93d4c4d09",
       "version_major": 2,
       "version_minor": 0
      },
      "text/plain": [
       "Calculating Metrics:   0%|          | 0/3 [00:00<?, ?it/s]"
      ]
     },
     "metadata": {},
     "output_type": "display_data"
    },
    {
     "data": {
      "application/vnd.jupyter.widget-view+json": {
       "model_id": "85babd44693249448bfc436f28ce9b53",
       "version_major": 2,
       "version_minor": 0
      },
      "text/plain": [
       "Calculating Metrics:   0%|          | 0/3 [00:00<?, ?it/s]"
      ]
     },
     "metadata": {},
     "output_type": "display_data"
    },
    {
     "data": {
      "application/vnd.jupyter.widget-view+json": {
       "model_id": "108c50bc1d154f9cb862429e4e7040b8",
       "version_major": 2,
       "version_minor": 0
      },
      "text/plain": [
       "Calculating Metrics:   0%|          | 0/8 [00:00<?, ?it/s]"
      ]
     },
     "metadata": {},
     "output_type": "display_data"
    },
    {
     "data": {
      "application/vnd.jupyter.widget-view+json": {
       "model_id": "52dc83c5eba6473c9a7384a7191507ac",
       "version_major": 2,
       "version_minor": 0
      },
      "text/plain": [
       "Calculating Metrics:   0%|          | 0/6 [00:00<?, ?it/s]"
      ]
     },
     "metadata": {},
     "output_type": "display_data"
    },
    {
     "data": {
      "application/vnd.jupyter.widget-view+json": {
       "model_id": "fe65839cbdce4279ad17419478b74386",
       "version_major": 2,
       "version_minor": 0
      },
      "text/plain": [
       "Calculating Metrics:   0%|          | 0/7 [00:00<?, ?it/s]"
      ]
     },
     "metadata": {},
     "output_type": "display_data"
    },
    {
     "data": {
      "application/vnd.jupyter.widget-view+json": {
       "model_id": "abaf7cc646674221ae6dd88034dcfd99",
       "version_major": 2,
       "version_minor": 0
      },
      "text/plain": [
       "Calculating Metrics:   0%|          | 0/7 [00:00<?, ?it/s]"
      ]
     },
     "metadata": {},
     "output_type": "display_data"
    },
    {
     "data": {
      "application/vnd.jupyter.widget-view+json": {
       "model_id": "9b51726044f744759a9679d6951d503f",
       "version_major": 2,
       "version_minor": 0
      },
      "text/plain": [
       "Calculating Metrics:   0%|          | 0/3 [00:00<?, ?it/s]"
      ]
     },
     "metadata": {},
     "output_type": "display_data"
    },
    {
     "data": {
      "application/vnd.jupyter.widget-view+json": {
       "model_id": "4c350248d727469aa98d7d9c991bc10d",
       "version_major": 2,
       "version_minor": 0
      },
      "text/plain": [
       "Calculating Metrics:   0%|          | 0/3 [00:00<?, ?it/s]"
      ]
     },
     "metadata": {},
     "output_type": "display_data"
    },
    {
     "data": {
      "application/vnd.jupyter.widget-view+json": {
       "model_id": "d6f9ddf804304fa7ab229030c1c415e3",
       "version_major": 2,
       "version_minor": 0
      },
      "text/plain": [
       "Calculating Metrics:   0%|          | 0/3 [00:00<?, ?it/s]"
      ]
     },
     "metadata": {},
     "output_type": "display_data"
    },
    {
     "data": {
      "application/vnd.jupyter.widget-view+json": {
       "model_id": "dc0f479089fa44f9bf37fcfc47eb5947",
       "version_major": 2,
       "version_minor": 0
      },
      "text/plain": [
       "Calculating Metrics:   0%|          | 0/3 [00:00<?, ?it/s]"
      ]
     },
     "metadata": {},
     "output_type": "display_data"
    },
    {
     "data": {
      "application/vnd.jupyter.widget-view+json": {
       "model_id": "ce29ddfcbcdd43688b6921dfabb2a4b6",
       "version_major": 2,
       "version_minor": 0
      },
      "text/plain": [
       "Calculating Metrics:   0%|          | 0/3 [00:00<?, ?it/s]"
      ]
     },
     "metadata": {},
     "output_type": "display_data"
    },
    {
     "data": {
      "application/vnd.jupyter.widget-view+json": {
       "model_id": "b7903a59f1d842c99c9cc4d107a9fed9",
       "version_major": 2,
       "version_minor": 0
      },
      "text/plain": [
       "Calculating Metrics:   0%|          | 0/3 [00:00<?, ?it/s]"
      ]
     },
     "metadata": {},
     "output_type": "display_data"
    },
    {
     "data": {
      "application/vnd.jupyter.widget-view+json": {
       "model_id": "e836f768f926426daac22fae886a96a0",
       "version_major": 2,
       "version_minor": 0
      },
      "text/plain": [
       "Calculating Metrics:   0%|          | 0/4 [00:00<?, ?it/s]"
      ]
     },
     "metadata": {},
     "output_type": "display_data"
    },
    {
     "data": {
      "application/vnd.jupyter.widget-view+json": {
       "model_id": "5e339b2a7a0647db93825308ead68b92",
       "version_major": 2,
       "version_minor": 0
      },
      "text/plain": [
       "Calculating Metrics:   0%|          | 0/4 [00:00<?, ?it/s]"
      ]
     },
     "metadata": {},
     "output_type": "display_data"
    },
    {
     "data": {
      "application/vnd.jupyter.widget-view+json": {
       "model_id": "45b90ab616fc466987a94c631d3cbb0a",
       "version_major": 2,
       "version_minor": 0
      },
      "text/plain": [
       "Calculating Metrics:   0%|          | 0/3 [00:00<?, ?it/s]"
      ]
     },
     "metadata": {},
     "output_type": "display_data"
    },
    {
     "data": {
      "application/vnd.jupyter.widget-view+json": {
       "model_id": "aff549d6e77a41eb9a4d8bbe87b8eefb",
       "version_major": 2,
       "version_minor": 0
      },
      "text/plain": [
       "Calculating Metrics:   0%|          | 0/3 [00:00<?, ?it/s]"
      ]
     },
     "metadata": {},
     "output_type": "display_data"
    },
    {
     "data": {
      "application/vnd.jupyter.widget-view+json": {
       "model_id": "54bc4b53c585414887fd65ff5ce7353d",
       "version_major": 2,
       "version_minor": 0
      },
      "text/plain": [
       "Calculating Metrics:   0%|          | 0/3 [00:00<?, ?it/s]"
      ]
     },
     "metadata": {},
     "output_type": "display_data"
    },
    {
     "data": {
      "application/vnd.jupyter.widget-view+json": {
       "model_id": "8b5c6030ffc84bbaa4580c1f2f0acbe4",
       "version_major": 2,
       "version_minor": 0
      },
      "text/plain": [
       "Calculating Metrics:   0%|          | 0/8 [00:00<?, ?it/s]"
      ]
     },
     "metadata": {},
     "output_type": "display_data"
    },
    {
     "data": {
      "application/vnd.jupyter.widget-view+json": {
       "model_id": "2de1a70e20424a8ea4226d473a9c2a8e",
       "version_major": 2,
       "version_minor": 0
      },
      "text/plain": [
       "Calculating Metrics:   0%|          | 0/6 [00:00<?, ?it/s]"
      ]
     },
     "metadata": {},
     "output_type": "display_data"
    },
    {
     "data": {
      "application/vnd.jupyter.widget-view+json": {
       "model_id": "ee18f1a5a39c4ba69c53a9d8cb4265ec",
       "version_major": 2,
       "version_minor": 0
      },
      "text/plain": [
       "Calculating Metrics:   0%|          | 0/7 [00:00<?, ?it/s]"
      ]
     },
     "metadata": {},
     "output_type": "display_data"
    },
    {
     "data": {
      "application/vnd.jupyter.widget-view+json": {
       "model_id": "48f629c933ee4ca996d90ff141d88a03",
       "version_major": 2,
       "version_minor": 0
      },
      "text/plain": [
       "Calculating Metrics:   0%|          | 0/7 [00:00<?, ?it/s]"
      ]
     },
     "metadata": {},
     "output_type": "display_data"
    },
    {
     "data": {
      "application/vnd.jupyter.widget-view+json": {
       "model_id": "62371f4750d147ff848d9519c2e0cfd2",
       "version_major": 2,
       "version_minor": 0
      },
      "text/plain": [
       "Calculating Metrics:   0%|          | 0/3 [00:00<?, ?it/s]"
      ]
     },
     "metadata": {},
     "output_type": "display_data"
    },
    {
     "data": {
      "application/vnd.jupyter.widget-view+json": {
       "model_id": "d3b5379eec2b4f619bf339d8cc42adcb",
       "version_major": 2,
       "version_minor": 0
      },
      "text/plain": [
       "Calculating Metrics:   0%|          | 0/8 [00:00<?, ?it/s]"
      ]
     },
     "metadata": {},
     "output_type": "display_data"
    },
    {
     "data": {
      "application/vnd.jupyter.widget-view+json": {
       "model_id": "f610f7622179489abd8644de507149f6",
       "version_major": 2,
       "version_minor": 0
      },
      "text/plain": [
       "Calculating Metrics:   0%|          | 0/6 [00:00<?, ?it/s]"
      ]
     },
     "metadata": {},
     "output_type": "display_data"
    },
    {
     "data": {
      "application/vnd.jupyter.widget-view+json": {
       "model_id": "db83ddee85474246a9acb72fb7d407fb",
       "version_major": 2,
       "version_minor": 0
      },
      "text/plain": [
       "Calculating Metrics:   0%|          | 0/7 [00:00<?, ?it/s]"
      ]
     },
     "metadata": {},
     "output_type": "display_data"
    },
    {
     "data": {
      "application/vnd.jupyter.widget-view+json": {
       "model_id": "3894fca3f3e94793a5572f41cfdc424c",
       "version_major": 2,
       "version_minor": 0
      },
      "text/plain": [
       "Calculating Metrics:   0%|          | 0/7 [00:00<?, ?it/s]"
      ]
     },
     "metadata": {},
     "output_type": "display_data"
    },
    {
     "data": {
      "application/vnd.jupyter.widget-view+json": {
       "model_id": "fa652b04567740b9b6e3eae1c6d36a78",
       "version_major": 2,
       "version_minor": 0
      },
      "text/plain": [
       "Calculating Metrics:   0%|          | 0/8 [00:00<?, ?it/s]"
      ]
     },
     "metadata": {},
     "output_type": "display_data"
    },
    {
     "name": "stdout",
     "output_type": "stream",
     "text": [
      "2021-10-25T15:27:36-0400 - INFO - \t24 expectation(s) included in expectation_suite.\n",
      "Creating an expectation suite with the following expectations:\n",
      "\n",
      "Table-Level Expectations\n",
      "expect_table_columns_to_match_ordered_list\n",
      "expect_table_row_count_to_be_between\n",
      "\n",
      "Expectations by Column\n",
      "Column Name: Age | Column Data Type: INT | Cardinality: VERY_FEW\n",
      "expect_column_max_to_be_between\n",
      "expect_column_mean_to_be_between\n",
      "expect_column_median_to_be_between\n",
      "expect_column_min_to_be_between\n",
      "expect_column_proportion_of_unique_values_to_be_between\n",
      "expect_column_quantile_values_to_be_between\n",
      "expect_column_values_to_be_in_set\n",
      "expect_column_values_to_be_in_type_list\n",
      "expect_column_values_to_not_be_null\n",
      "\n",
      "\n",
      "Column Name: Income | Column Data Type: INT | Cardinality: VERY_FEW\n",
      "expect_column_max_to_be_between\n",
      "expect_column_mean_to_be_between\n",
      "expect_column_median_to_be_between\n",
      "expect_column_min_to_be_between\n",
      "expect_column_proportion_of_unique_values_to_be_between\n",
      "expect_column_quantile_values_to_be_between\n",
      "expect_column_values_to_be_in_set\n",
      "expect_column_values_to_be_in_type_list\n",
      "expect_column_values_to_not_be_null\n",
      "\n",
      "\n",
      "Column Name: Prior_Claims | Column Data Type: STRING | Cardinality: TWO\n",
      "expect_column_proportion_of_unique_values_to_be_between\n",
      "expect_column_values_to_be_in_set\n",
      "expect_column_values_to_be_in_type_list\n",
      "expect_column_values_to_not_be_null\n",
      "\n",
      "\n"
     ]
    }
   ],
   "source": [
    "profiler = UserConfigurableProfiler(\n",
    "    profile_dataset=validator,\n",
    "    excluded_expectations=None,\n",
    "    ignored_columns=ignored_columns,\n",
    "    not_null_only=False,\n",
    "    primary_or_compound_key=False,\n",
    "    semantic_types_dict=None,\n",
    "    table_expectations_only=False,\n",
    "    value_set_threshold=\"MANY\",\n",
    ")\n",
    "suite = profiler.build_suite()"
   ]
  },
  {
   "cell_type": "markdown",
   "metadata": {},
   "source": [
    "### Column Expectation(s)"
   ]
  },
  {
   "cell_type": "markdown",
   "metadata": {},
   "source": [
    "No column level expectations are in this suite. Feel free to add some here.\n"
   ]
  },
  {
   "cell_type": "markdown",
   "metadata": {},
   "source": [
    "## Save & Review Your Expectations\n",
    "\n",
    "Let's save the expectation suite as a JSON file in the `great_expectations/expectations` directory of your project.\n",
    "\n",
    "Let's now rebuild your Data Docs, which helps you communicate about your data with both machines and humans."
   ]
  },
  {
   "cell_type": "code",
   "execution_count": 17,
   "metadata": {},
   "outputs": [
    {
     "name": "stdout",
     "output_type": "stream",
     "text": [
      "2021-10-25T15:28:07-0400 - INFO - \t24 expectation(s) included in expectation_suite.\n",
      "{\n",
      "  \"expectation_suite_name\": \"expectations\",\n",
      "  \"ge_cloud_id\": null,\n",
      "  \"meta\": {\n",
      "    \"great_expectations_version\": \"0.13.37\"\n",
      "  },\n",
      "  \"expectations\": [\n",
      "    {\n",
      "      \"expectation_type\": \"expect_table_columns_to_match_ordered_list\",\n",
      "      \"ge_cloud_id\": null,\n",
      "      \"kwargs\": {\n",
      "        \"column_list\": [\n",
      "          \"Age\",\n",
      "          \"Income\",\n",
      "          \"Prior_Claims\"\n",
      "        ]\n",
      "      },\n",
      "      \"meta\": {}\n",
      "    },\n",
      "    {\n",
      "      \"expectation_type\": \"expect_table_row_count_to_be_between\",\n",
      "      \"ge_cloud_id\": null,\n",
      "      \"kwargs\": {\n",
      "        \"min_value\": 10,\n",
      "        \"max_value\": 10\n",
      "      },\n",
      "      \"meta\": {}\n",
      "    },\n",
      "    {\n",
      "      \"expectation_type\": \"expect_column_min_to_be_between\",\n",
      "      \"ge_cloud_id\": null,\n",
      "      \"kwargs\": {\n",
      "        \"min_value\": 23,\n",
      "        \"max_value\": 23,\n",
      "        \"column\": \"Age\"\n",
      "      },\n",
      "      \"meta\": {}\n",
      "    },\n",
      "    {\n",
      "      \"expectation_type\": \"expect_column_max_to_be_between\",\n",
      "      \"ge_cloud_id\": null,\n",
      "      \"kwargs\": {\n",
      "        \"min_value\": 67,\n",
      "        \"max_value\": 67,\n",
      "        \"column\": \"Age\"\n",
      "      },\n",
      "      \"meta\": {}\n",
      "    },\n",
      "    {\n",
      "      \"expectation_type\": \"expect_column_mean_to_be_between\",\n",
      "      \"ge_cloud_id\": null,\n",
      "      \"kwargs\": {\n",
      "        \"min_value\": 45.0,\n",
      "        \"max_value\": 45.0,\n",
      "        \"column\": \"Age\"\n",
      "      },\n",
      "      \"meta\": {}\n",
      "    },\n",
      "    {\n",
      "      \"expectation_type\": \"expect_column_median_to_be_between\",\n",
      "      \"ge_cloud_id\": null,\n",
      "      \"kwargs\": {\n",
      "        \"min_value\": 39.5,\n",
      "        \"max_value\": 39.5,\n",
      "        \"column\": \"Age\"\n",
      "      },\n",
      "      \"meta\": {}\n",
      "    },\n",
      "    {\n",
      "      \"expectation_type\": \"expect_column_quantile_values_to_be_between\",\n",
      "      \"ge_cloud_id\": null,\n",
      "      \"kwargs\": {\n",
      "        \"quantile_ranges\": {\n",
      "          \"quantiles\": [\n",
      "            0.05,\n",
      "            0.25,\n",
      "            0.5,\n",
      "            0.75,\n",
      "            0.95\n",
      "          ],\n",
      "          \"value_ranges\": [\n",
      "            [\n",
      "              23,\n",
      "              23\n",
      "            ],\n",
      "            [\n",
      "              34,\n",
      "              34\n",
      "            ],\n",
      "            [\n",
      "              34,\n",
      "              34\n",
      "            ],\n",
      "            [\n",
      "              56,\n",
      "              56\n",
      "            ],\n",
      "            [\n",
      "              67,\n",
      "              67\n",
      "            ]\n",
      "          ]\n",
      "        },\n",
      "        \"allow_relative_error\": \"lower\",\n",
      "        \"column\": \"Age\"\n",
      "      },\n",
      "      \"meta\": {}\n",
      "    },\n",
      "    {\n",
      "      \"expectation_type\": \"expect_column_values_to_be_in_set\",\n",
      "      \"ge_cloud_id\": null,\n",
      "      \"kwargs\": {\n",
      "        \"value_set\": [\n",
      "          23,\n",
      "          34,\n",
      "          45,\n",
      "          56,\n",
      "          67\n",
      "        ],\n",
      "        \"column\": \"Age\"\n",
      "      },\n",
      "      \"meta\": {}\n",
      "    },\n",
      "    {\n",
      "      \"expectation_type\": \"expect_column_values_to_not_be_null\",\n",
      "      \"ge_cloud_id\": null,\n",
      "      \"kwargs\": {\n",
      "        \"column\": \"Age\"\n",
      "      },\n",
      "      \"meta\": {}\n",
      "    },\n",
      "    {\n",
      "      \"expectation_type\": \"expect_column_proportion_of_unique_values_to_be_between\",\n",
      "      \"ge_cloud_id\": null,\n",
      "      \"kwargs\": {\n",
      "        \"min_value\": 0.5,\n",
      "        \"max_value\": 0.5,\n",
      "        \"column\": \"Age\"\n",
      "      },\n",
      "      \"meta\": {}\n",
      "    },\n",
      "    {\n",
      "      \"expectation_type\": \"expect_column_values_to_be_in_type_list\",\n",
      "      \"ge_cloud_id\": null,\n",
      "      \"kwargs\": {\n",
      "        \"type_list\": [\n",
      "          \"INTEGER\",\n",
      "          \"integer\",\n",
      "          \"int\",\n",
      "          \"int_\",\n",
      "          \"int8\",\n",
      "          \"int16\",\n",
      "          \"int32\",\n",
      "          \"int64\",\n",
      "          \"uint8\",\n",
      "          \"uint16\",\n",
      "          \"uint32\",\n",
      "          \"uint64\",\n",
      "          \"INT\",\n",
      "          \"INTEGER\",\n",
      "          \"INT64\",\n",
      "          \"TINYINT\",\n",
      "          \"BYTEINT\",\n",
      "          \"SMALLINT\",\n",
      "          \"BIGINT\",\n",
      "          \"IntegerType\",\n",
      "          \"LongType\"\n",
      "        ],\n",
      "        \"column\": \"Age\"\n",
      "      },\n",
      "      \"meta\": {}\n",
      "    },\n",
      "    {\n",
      "      \"expectation_type\": \"expect_column_min_to_be_between\",\n",
      "      \"ge_cloud_id\": null,\n",
      "      \"kwargs\": {\n",
      "        \"min_value\": 12345,\n",
      "        \"max_value\": 12345,\n",
      "        \"column\": \"Income\"\n",
      "      },\n",
      "      \"meta\": {}\n",
      "    },\n",
      "    {\n",
      "      \"expectation_type\": \"expect_column_max_to_be_between\",\n",
      "      \"ge_cloud_id\": null,\n",
      "      \"kwargs\": {\n",
      "        \"min_value\": 102000,\n",
      "        \"max_value\": 102000,\n",
      "        \"column\": \"Income\"\n",
      "      },\n",
      "      \"meta\": {}\n",
      "    },\n",
      "    {\n",
      "      \"expectation_type\": \"expect_column_mean_to_be_between\",\n",
      "      \"ge_cloud_id\": null,\n",
      "      \"kwargs\": {\n",
      "        \"min_value\": 54384.5,\n",
      "        \"max_value\": 54384.5,\n",
      "        \"column\": \"Income\"\n",
      "      },\n",
      "      \"meta\": {}\n",
      "    },\n",
      "    {\n",
      "      \"expectation_type\": \"expect_column_median_to_be_between\",\n",
      "      \"ge_cloud_id\": null,\n",
      "      \"kwargs\": {\n",
      "        \"min_value\": 45306.0,\n",
      "        \"max_value\": 45306.0,\n",
      "        \"column\": \"Income\"\n",
      "      },\n",
      "      \"meta\": {}\n",
      "    },\n",
      "    {\n",
      "      \"expectation_type\": \"expect_column_quantile_values_to_be_between\",\n",
      "      \"ge_cloud_id\": null,\n",
      "      \"kwargs\": {\n",
      "        \"quantile_ranges\": {\n",
      "          \"quantiles\": [\n",
      "            0.05,\n",
      "            0.25,\n",
      "            0.5,\n",
      "            0.75,\n",
      "            0.95\n",
      "          ],\n",
      "          \"value_ranges\": [\n",
      "            [\n",
      "              12345,\n",
      "              12345\n",
      "            ],\n",
      "            [\n",
      "              34000,\n",
      "              34000\n",
      "            ],\n",
      "            [\n",
      "              45000,\n",
      "              45000\n",
      "            ],\n",
      "            [\n",
      "              67888,\n",
      "              67888\n",
      "            ],\n",
      "            [\n",
      "              100000,\n",
      "              100000\n",
      "            ]\n",
      "          ]\n",
      "        },\n",
      "        \"allow_relative_error\": \"lower\",\n",
      "        \"column\": \"Income\"\n",
      "      },\n",
      "      \"meta\": {}\n",
      "    },\n",
      "    {\n",
      "      \"expectation_type\": \"expect_column_values_to_be_in_set\",\n",
      "      \"ge_cloud_id\": null,\n",
      "      \"kwargs\": {\n",
      "        \"value_set\": [\n",
      "          12345,\n",
      "          25000,\n",
      "          34000,\n",
      "          45000,\n",
      "          45612,\n",
      "          67888,\n",
      "          78000,\n",
      "          100000,\n",
      "          102000\n",
      "        ],\n",
      "        \"column\": \"Income\"\n",
      "      },\n",
      "      \"meta\": {}\n",
      "    },\n",
      "    {\n",
      "      \"expectation_type\": \"expect_column_values_to_not_be_null\",\n",
      "      \"ge_cloud_id\": null,\n",
      "      \"kwargs\": {\n",
      "        \"column\": \"Income\"\n",
      "      },\n",
      "      \"meta\": {}\n",
      "    },\n",
      "    {\n",
      "      \"expectation_type\": \"expect_column_proportion_of_unique_values_to_be_between\",\n",
      "      \"ge_cloud_id\": null,\n",
      "      \"kwargs\": {\n",
      "        \"min_value\": 0.9,\n",
      "        \"max_value\": 0.9,\n",
      "        \"column\": \"Income\"\n",
      "      },\n",
      "      \"meta\": {}\n",
      "    },\n",
      "    {\n",
      "      \"expectation_type\": \"expect_column_values_to_be_in_type_list\",\n",
      "      \"ge_cloud_id\": null,\n",
      "      \"kwargs\": {\n",
      "        \"type_list\": [\n",
      "          \"INTEGER\",\n",
      "          \"integer\",\n",
      "          \"int\",\n",
      "          \"int_\",\n",
      "          \"int8\",\n",
      "          \"int16\",\n",
      "          \"int32\",\n",
      "          \"int64\",\n",
      "          \"uint8\",\n",
      "          \"uint16\",\n",
      "          \"uint32\",\n",
      "          \"uint64\",\n",
      "          \"INT\",\n",
      "          \"INTEGER\",\n",
      "          \"INT64\",\n",
      "          \"TINYINT\",\n",
      "          \"BYTEINT\",\n",
      "          \"SMALLINT\",\n",
      "          \"BIGINT\",\n",
      "          \"IntegerType\",\n",
      "          \"LongType\"\n",
      "        ],\n",
      "        \"column\": \"Income\"\n",
      "      },\n",
      "      \"meta\": {}\n",
      "    },\n",
      "    {\n",
      "      \"expectation_type\": \"expect_column_values_to_be_in_set\",\n",
      "      \"ge_cloud_id\": null,\n",
      "      \"kwargs\": {\n",
      "        \"value_set\": [\n",
      "          \"No\",\n",
      "          \"Yes\"\n",
      "        ],\n",
      "        \"column\": \"Prior_Claims\"\n",
      "      },\n",
      "      \"meta\": {}\n",
      "    },\n",
      "    {\n",
      "      \"expectation_type\": \"expect_column_values_to_not_be_null\",\n",
      "      \"ge_cloud_id\": null,\n",
      "      \"kwargs\": {\n",
      "        \"column\": \"Prior_Claims\"\n",
      "      },\n",
      "      \"meta\": {}\n",
      "    },\n",
      "    {\n",
      "      \"expectation_type\": \"expect_column_proportion_of_unique_values_to_be_between\",\n",
      "      \"ge_cloud_id\": null,\n",
      "      \"kwargs\": {\n",
      "        \"min_value\": 0.2,\n",
      "        \"max_value\": 0.2,\n",
      "        \"column\": \"Prior_Claims\"\n",
      "      },\n",
      "      \"meta\": {}\n",
      "    },\n",
      "    {\n",
      "      \"expectation_type\": \"expect_column_values_to_be_in_type_list\",\n",
      "      \"ge_cloud_id\": null,\n",
      "      \"kwargs\": {\n",
      "        \"type_list\": [\n",
      "          \"CHAR\",\n",
      "          \"NCHAR\",\n",
      "          \"VARCHAR\",\n",
      "          \"NVARCHAR\",\n",
      "          \"TEXT\",\n",
      "          \"NTEXT\",\n",
      "          \"STRING\",\n",
      "          \"StringType\",\n",
      "          \"string\",\n",
      "          \"str\",\n",
      "          \"object\",\n",
      "          \"dtype('O')\"\n",
      "        ],\n",
      "        \"column\": \"Prior_Claims\"\n",
      "      },\n",
      "      \"meta\": {}\n",
      "    }\n",
      "  ],\n",
      "  \"data_asset_type\": null\n",
      "}\n",
      "2021-10-25T15:28:07-0400 - INFO - \t24 expectation(s) included in expectation_suite.\n",
      "2021-10-25T15:28:07-0400 - INFO - \t24 expectation(s) included in expectation_suite.\n"
     ]
    },
    {
     "data": {
      "application/vnd.jupyter.widget-view+json": {
       "model_id": "b140c98121e84a97bc358052fb4d97f3",
       "version_major": 2,
       "version_minor": 0
      },
      "text/plain": [
       "Calculating Metrics:   0%|          | 0/40 [00:00<?, ?it/s]"
      ]
     },
     "metadata": {},
     "output_type": "display_data"
    }
   ],
   "source": [
    "print(validator.get_expectation_suite(discard_failed_expectations=False))\n",
    "validator.save_expectation_suite(discard_failed_expectations=False)\n",
    "\n",
    "checkpoint_config = {\n",
    "    \"class_name\": \"SimpleCheckpoint\",\n",
    "    \"validations\": [\n",
    "        {\n",
    "            \"batch_request\": batch_request,\n",
    "            \"expectation_suite_name\": expectation_suite_name\n",
    "        }\n",
    "    ]\n",
    "}\n",
    "checkpoint = SimpleCheckpoint(\n",
    "    f\"_tmp_checkpoint_{expectation_suite_name}\",\n",
    "    context,\n",
    "    **checkpoint_config\n",
    ")\n",
    "checkpoint_result = checkpoint.run()\n",
    "\n",
    "context.build_data_docs()\n",
    "\n",
    "validation_result_identifier = checkpoint_result.list_validation_result_identifiers()[0]\n",
    "context.open_data_docs(resource_identifier=validation_result_identifier)"
   ]
  },
  {
   "cell_type": "code",
   "execution_count": null,
   "metadata": {},
   "outputs": [],
   "source": [
    "print(context.get_expectation_suite(expectation_suite_name=expectation_suite_name))\n",
    "context.save_expectation_suite(expectation_suite=suite, expectation_suite_name=expectation_suite_name)\n",
    "\n",
    "suite_identifier = ExpectationSuiteIdentifier(expectation_suite_name=expectation_suite_name)\n",
    "context.build_data_docs(resource_identifiers=[suite_identifier])\n",
    "context.open_data_docs(resource_identifier=suite_identifier)"
   ]
  }
 ],
 "metadata": {
  "kernelspec": {
   "display_name": "Python 3",
   "language": "python",
   "name": "python3"
  },
  "language_info": {
   "codemirror_mode": {
    "name": "ipython",
    "version": 3
   },
   "file_extension": ".py",
   "mimetype": "text/x-python",
   "name": "python",
   "nbconvert_exporter": "python",
   "pygments_lexer": "ipython3",
   "version": "3.6.8"
  }
 },
 "nbformat": 4,
 "nbformat_minor": 2
}
